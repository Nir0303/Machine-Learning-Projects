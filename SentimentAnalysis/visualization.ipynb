{
 "cells": [
  {
   "cell_type": "code",
   "execution_count": 1,
   "metadata": {
    "collapsed": true
   },
   "outputs": [],
   "source": [
    "import pandas as pd"
   ]
  },
  {
   "cell_type": "code",
   "execution_count": 3,
   "metadata": {
    "collapsed": false
   },
   "outputs": [],
   "source": [
    "yelpReviewPD=pd.read_pickle('yelpReview10000.p')"
   ]
  },
  {
   "cell_type": "code",
   "execution_count": 4,
   "metadata": {
    "collapsed": false
   },
   "outputs": [
    {
     "data": {
      "text/html": [
       "<div>\n",
       "<table border=\"1\" class=\"dataframe\">\n",
       "  <thead>\n",
       "    <tr style=\"text-align: right;\">\n",
       "      <th></th>\n",
       "      <th>ReviewId</th>\n",
       "      <th>text</th>\n",
       "      <th>NaiveBayes</th>\n",
       "      <th>RFClassification</th>\n",
       "      <th>BNBClassification</th>\n",
       "      <th>LogisticRegressionClassification</th>\n",
       "      <th>MNBClassification</th>\n",
       "      <th>SGDClassification</th>\n",
       "      <th>LinearSVCClassification</th>\n",
       "      <th>CombinedClassification</th>\n",
       "    </tr>\n",
       "  </thead>\n",
       "  <tbody>\n",
       "    <tr>\n",
       "      <th>0</th>\n",
       "      <td>NpkTbM23X8douRPIPletCg</td>\n",
       "      <td>My wifey &amp; I decided to venture off of the str...</td>\n",
       "      <td>negative</td>\n",
       "      <td>negative</td>\n",
       "      <td>negative</td>\n",
       "      <td>negative</td>\n",
       "      <td>negative</td>\n",
       "      <td>negative</td>\n",
       "      <td>negative</td>\n",
       "      <td>negative</td>\n",
       "    </tr>\n",
       "    <tr>\n",
       "      <th>1</th>\n",
       "      <td>Dcn7SHEyUN5BDalaUDc-6g</td>\n",
       "      <td>Beer is awesome! Food is a russian roulette! S...</td>\n",
       "      <td>negative</td>\n",
       "      <td>negative</td>\n",
       "      <td>negative</td>\n",
       "      <td>negative</td>\n",
       "      <td>negative</td>\n",
       "      <td>negative</td>\n",
       "      <td>negative</td>\n",
       "      <td>negative</td>\n",
       "    </tr>\n",
       "    <tr>\n",
       "      <th>2</th>\n",
       "      <td>2URAUtCMjMzFJhMkTpMnLA</td>\n",
       "      <td>Every time we come to Vegas this is the 1st pl...</td>\n",
       "      <td>positive</td>\n",
       "      <td>positive</td>\n",
       "      <td>positive</td>\n",
       "      <td>positive</td>\n",
       "      <td>positive</td>\n",
       "      <td>positive</td>\n",
       "      <td>positive</td>\n",
       "      <td>positive</td>\n",
       "    </tr>\n",
       "    <tr>\n",
       "      <th>3</th>\n",
       "      <td>hoiHUrd2csfiiqKVlaVWbw</td>\n",
       "      <td>what a find this place was , had the steak spe...</td>\n",
       "      <td>negative</td>\n",
       "      <td>negative</td>\n",
       "      <td>negative</td>\n",
       "      <td>negative</td>\n",
       "      <td>negative</td>\n",
       "      <td>negative</td>\n",
       "      <td>negative</td>\n",
       "      <td>negative</td>\n",
       "    </tr>\n",
       "    <tr>\n",
       "      <th>4</th>\n",
       "      <td>zAx6l2nsW19ZmqLiAEP29w</td>\n",
       "      <td>FREAKING LOVE THIS PLACE.\\n\\nHave gone here ev...</td>\n",
       "      <td>negative</td>\n",
       "      <td>positive</td>\n",
       "      <td>negative</td>\n",
       "      <td>positive</td>\n",
       "      <td>negative</td>\n",
       "      <td>negative</td>\n",
       "      <td>negative</td>\n",
       "      <td>negative</td>\n",
       "    </tr>\n",
       "  </tbody>\n",
       "</table>\n",
       "</div>"
      ],
      "text/plain": [
       "                 ReviewId                                               text  \\\n",
       "0  NpkTbM23X8douRPIPletCg  My wifey & I decided to venture off of the str...   \n",
       "1  Dcn7SHEyUN5BDalaUDc-6g  Beer is awesome! Food is a russian roulette! S...   \n",
       "2  2URAUtCMjMzFJhMkTpMnLA  Every time we come to Vegas this is the 1st pl...   \n",
       "3  hoiHUrd2csfiiqKVlaVWbw  what a find this place was , had the steak spe...   \n",
       "4  zAx6l2nsW19ZmqLiAEP29w  FREAKING LOVE THIS PLACE.\\n\\nHave gone here ev...   \n",
       "\n",
       "  NaiveBayes RFClassification BNBClassification  \\\n",
       "0   negative         negative          negative   \n",
       "1   negative         negative          negative   \n",
       "2   positive         positive          positive   \n",
       "3   negative         negative          negative   \n",
       "4   negative         positive          negative   \n",
       "\n",
       "  LogisticRegressionClassification MNBClassification SGDClassification  \\\n",
       "0                         negative          negative          negative   \n",
       "1                         negative          negative          negative   \n",
       "2                         positive          positive          positive   \n",
       "3                         negative          negative          negative   \n",
       "4                         positive          negative          negative   \n",
       "\n",
       "  LinearSVCClassification CombinedClassification  \n",
       "0                negative               negative  \n",
       "1                negative               negative  \n",
       "2                positive               positive  \n",
       "3                negative               negative  \n",
       "4                negative               negative  "
      ]
     },
     "execution_count": 4,
     "metadata": {},
     "output_type": "execute_result"
    }
   ],
   "source": [
    "yelpReviewPD[:5]"
   ]
  },
  {
   "cell_type": "code",
   "execution_count": null,
   "metadata": {
    "collapsed": true
   },
   "outputs": [],
   "source": [
    "x=yelpReviewPD.groupby('NaiveBayes').agg('count')['ReviewId']\n",
    "y=yelpReviewPD.groupby('CombinedClassification').agg('count')['ReviewId']"
   ]
  }
 ],
 "metadata": {
  "anaconda-cloud": {},
  "kernelspec": {
   "display_name": "Python [Root]",
   "language": "python",
   "name": "Python [Root]"
  },
  "language_info": {
   "codemirror_mode": {
    "name": "ipython",
    "version": 2
   },
   "file_extension": ".py",
   "mimetype": "text/x-python",
   "name": "python",
   "nbconvert_exporter": "python",
   "pygments_lexer": "ipython2",
   "version": "2.7.12"
  }
 },
 "nbformat": 4,
 "nbformat_minor": 1
}
