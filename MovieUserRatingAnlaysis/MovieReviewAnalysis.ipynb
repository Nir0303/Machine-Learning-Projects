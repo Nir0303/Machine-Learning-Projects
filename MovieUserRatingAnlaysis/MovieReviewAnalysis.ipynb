{
 "cells": [
  {
   "cell_type": "code",
   "execution_count": 160,
   "metadata": {
    "collapsed": false
   },
   "outputs": [
    {
     "data": {
      "text/plain": [
       "<pyspark.context.SparkContext at 0x2ab5fb70d910>"
      ]
     },
     "execution_count": 160,
     "metadata": {},
     "output_type": "execute_result"
    }
   ],
   "source": [
    "sc"
   ]
  },
  {
   "cell_type": "code",
   "execution_count": 161,
   "metadata": {
    "collapsed": true
   },
   "outputs": [],
   "source": [
    "movies = sc.textFile(\"file:///home/modekus/Project/input/small2.txt\")\n",
    "#movies = sc.textFile(\"file:///home/modekus/Project/input/movies.txt\")"
   ]
  },
  {
   "cell_type": "code",
   "execution_count": 162,
   "metadata": {
    "collapsed": false,
    "scrolled": false
   },
   "outputs": [
    {
     "data": {
      "text/plain": [
       "[u'product/productId: B003AI2VGA']"
      ]
     },
     "execution_count": 162,
     "metadata": {},
     "output_type": "execute_result"
    }
   ],
   "source": [
    "movies.take(1)"
   ]
  },
  {
   "cell_type": "code",
   "execution_count": 163,
   "metadata": {
    "collapsed": true
   },
   "outputs": [],
   "source": [
    "def get_line_info(row):\n",
    "    \n",
    "    if not row:\n",
    "        return (-1, None)\n",
    "    \n",
    "    (review_code, review_value) = row.split(': ', 1)\n",
    "\n",
    "    if review_code == 'product/productId':\n",
    "        return (1, review_value)\n",
    "    if review_code == 'review/userId':\n",
    "        return (2, review_value)\n",
    "    if review_code == 'review/profileName':\n",
    "        return (3, review_value)\n",
    "    if review_code == 'review/helpfulness':\n",
    "        return (4, review_value)\n",
    "    if review_code == 'review/score':\n",
    "        return (5, review_value)\n",
    "    if review_code == 'review/time':\n",
    "        return (6, review_value)\n",
    "    if review_code == 'review/summary':\n",
    "        return (7, review_value)\n",
    "    if review_code == 'review/text':\n",
    "        return (8, review_value)\n",
    "    return (-1, None)"
   ]
  },
  {
   "cell_type": "code",
   "execution_count": 164,
   "metadata": {
    "collapsed": false
   },
   "outputs": [],
   "source": [
    "parsemovies = movies.map(lambda x : get_line_info(x))"
   ]
  },
  {
   "cell_type": "code",
   "execution_count": 165,
   "metadata": {
    "collapsed": false,
    "scrolled": true
   },
   "outputs": [
    {
     "data": {
      "text/plain": [
       "[(1, u'B003AI2VGA'),\n",
       " (2, u'A141HP4LYPWMSR'),\n",
       " (3, u'Brian E. Erland \"Rainbow Sphinx\"'),\n",
       " (4, u'7/7'),\n",
       " (5, u'3.0'),\n",
       " (6, u'1182729600'),\n",
       " (7, u'\"There Is So Much Darkness Now ~ Come For The Miracle\"'),\n",
       " (8,\n",
       "  u'Synopsis: On the daily trek from Juarez, Mexico to El Paso, Texas an ever increasing number of female workers are found raped and murdered in the surrounding desert. Investigative reporter Karina Danes (Minnie Driver) arrives from Los Angeles to pursue the story and angers both the local police and the factory owners who employee the undocumented aliens with her pointed questions and relentless quest for the truth.<br /><br />Her story goes nationwide when a young girl named Mariela (Ana Claudia Talancon) survives a vicious attack and walks out of the desert crediting the Blessed Virgin for her rescue. Her story is further enhanced when the \"Wounds of Christ\" (stigmata) appear in her palms. She also claims to have received a message of hope for the Virgin Mary and soon a fanatical movement forms around her to fight against the evil that holds such a stranglehold on the area.<br /><br />Critique: Possessing a lifelong fascination with such esoteric matters as Catholic mysticism, miracles and the mysterious appearance of the stigmata, I was immediately attracted to the \\'05 DVD release `Virgin of Juarez\\'. The film offers a rather unique storyline blending current socio-political concerns, the constant flow of Mexican migrant workers back and forth across the U.S./Mexican border and the traditional Catholic beliefs of the Hispanic population. I must say I was quite surprised by the unexpected route taken by the plot and the means and methods by which the heavenly message unfolds.<br /><br />`Virgin of Juarez\\' is not a film that you would care to watch over and over again, but it was interesting enough to merit at least one viewing. Minnie Driver delivers a solid performance and Ana Claudia Talancon is perfect as the fragile and innocent visionary Mariela. Also starring Esai Morales and Angus Macfadyen (Braveheart).'),\n",
       " (-1, None),\n",
       " (1, u'B003AI2VGA')]"
      ]
     },
     "execution_count": 165,
     "metadata": {},
     "output_type": "execute_result"
    }
   ],
   "source": [
    "parsemovies.take(10)"
   ]
  },
  {
   "cell_type": "code",
   "execution_count": 166,
   "metadata": {
    "collapsed": false
   },
   "outputs": [],
   "source": [
    "\n",
    "def floatconv(x):\n",
    "    try:\n",
    "        t=float(x[0])/float(x[1])\n",
    "    except:\n",
    "        t=1.0\n",
    "    return t\n",
    "ratingusefuldata=parsemovies.filter(lambda x: x[0] in [4]).map(lambda x: x[1].split('/')).filter(lambda x:len(x)==2).map(lambda x:floatconv(x) )"
   ]
  },
  {
   "cell_type": "code",
   "execution_count": 167,
   "metadata": {
    "collapsed": false
   },
   "outputs": [
    {
     "data": {
      "text/plain": [
       "[1.0,\n",
       " 1.0,\n",
       " 0.8,\n",
       " 1.0,\n",
       " 1.0,\n",
       " 1.0,\n",
       " 0.2727272727272727,\n",
       " 0.9846153846153847,\n",
       " 1.0,\n",
       " 1.0]"
      ]
     },
     "execution_count": 167,
     "metadata": {},
     "output_type": "execute_result"
    }
   ],
   "source": [
    "ratingusefuldata.take(10)"
   ]
  },
  {
   "cell_type": "code",
   "execution_count": 168,
   "metadata": {
    "collapsed": false
   },
   "outputs": [],
   "source": [
    "ratingdata=parsemovies.filter(lambda x: x[0] in [5]).map(lambda x: x[1])"
   ]
  },
  {
   "cell_type": "code",
   "execution_count": 169,
   "metadata": {
    "collapsed": false
   },
   "outputs": [
    {
     "data": {
      "text/plain": [
       "[u'3.0',\n",
       " u'3.0',\n",
       " u'5.0',\n",
       " u'3.0',\n",
       " u'3.0',\n",
       " u'2.0',\n",
       " u'1.0',\n",
       " u'5.0',\n",
       " u'5.0',\n",
       " u'5.0']"
      ]
     },
     "execution_count": 169,
     "metadata": {},
     "output_type": "execute_result"
    }
   ],
   "source": [
    "ratingdata.take(10)"
   ]
  },
  {
   "cell_type": "code",
   "execution_count": 170,
   "metadata": {
    "collapsed": false
   },
   "outputs": [],
   "source": [
    "data = ratingdata.zip(ratingusefuldata).filter(lambda x:len(x)==2)"
   ]
  },
  {
   "cell_type": "code",
   "execution_count": 171,
   "metadata": {
    "collapsed": false
   },
   "outputs": [
    {
     "data": {
      "text/plain": [
       "[(u'3.0', 1.0),\n",
       " (u'3.0', 1.0),\n",
       " (u'5.0', 0.8),\n",
       " (u'3.0', 1.0),\n",
       " (u'3.0', 1.0),\n",
       " (u'2.0', 1.0),\n",
       " (u'1.0', 0.2727272727272727),\n",
       " (u'5.0', 0.9846153846153847),\n",
       " (u'5.0', 1.0),\n",
       " (u'5.0', 1.0)]"
      ]
     },
     "execution_count": 171,
     "metadata": {},
     "output_type": "execute_result"
    }
   ],
   "source": [
    "data.take(10)"
   ]
  },
  {
   "cell_type": "code",
   "execution_count": 172,
   "metadata": {
    "collapsed": false
   },
   "outputs": [],
   "source": [
    "resultDF = sqlContext.createDataFrame(data,['rating','usefulness'])"
   ]
  },
  {
   "cell_type": "code",
   "execution_count": 173,
   "metadata": {
    "collapsed": false
   },
   "outputs": [],
   "source": [
    "resultDF.registerTempTable('ratings')"
   ]
  },
  {
   "cell_type": "code",
   "execution_count": 176,
   "metadata": {
    "collapsed": true
   },
   "outputs": [],
   "source": [
    "l=sqlContext.sql(\"select rating,sum(usefulness)/count(*) as  useful from ratings group by rating limit 10\")"
   ]
  },
  {
   "cell_type": "code",
   "execution_count": 177,
   "metadata": {
    "collapsed": false,
    "scrolled": true
   },
   "outputs": [
    {
     "name": "stdout",
     "output_type": "stream",
     "text": [
      "+------+-------------------+\n",
      "|rating|             useful|\n",
      "+------+-------------------+\n",
      "|   1.0|0.46896949068683474|\n",
      "|   5.0|  0.791073473366171|\n",
      "|   4.0| 0.7666482915984856|\n",
      "|   2.0|  0.530552293186399|\n",
      "|   3.0| 0.6293620145782315|\n",
      "+------+-------------------+\n",
      "\n"
     ]
    }
   ],
   "source": [
    "l.show(10)"
   ]
  },
  {
   "cell_type": "code",
   "execution_count": null,
   "metadata": {
    "collapsed": true
   },
   "outputs": [],
   "source": []
  },
  {
   "cell_type": "code",
   "execution_count": null,
   "metadata": {
    "collapsed": true
   },
   "outputs": [],
   "source": []
  },
  {
   "cell_type": "code",
   "execution_count": null,
   "metadata": {
    "collapsed": true
   },
   "outputs": [],
   "source": []
  }
 ],
 "metadata": {
  "anaconda-cloud": {},
  "kernelspec": {
   "display_name": "Python [conda root]",
   "language": "python",
   "name": "conda-root-py"
  },
  "language_info": {
   "codemirror_mode": {
    "name": "ipython",
    "version": 2
   },
   "file_extension": ".py",
   "mimetype": "text/x-python",
   "name": "python",
   "nbconvert_exporter": "python",
   "pygments_lexer": "ipython2",
   "version": "2.7.12"
  }
 },
 "nbformat": 4,
 "nbformat_minor": 1
}
